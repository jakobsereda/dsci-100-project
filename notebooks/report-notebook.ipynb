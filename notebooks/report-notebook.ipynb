{
 "cells": [
  {
   "cell_type": "markdown",
   "id": "32118acf-5dee-4cb7-bcf1-aefba39b9516",
   "metadata": {},
   "source": [
    "# **Using Physical Attributes and Point Percentages to Predict Position for NBA Players**"
   ]
  },
  {
   "cell_type": "markdown",
   "id": "b51cc60e-3472-4df2-bf73-af508080d002",
   "metadata": {},
   "source": [
    "##### *Tanisha Amrin, Charmaine Chui, Jakob Sereda, Julian Wright*"
   ]
  },
  {
   "cell_type": "code",
   "execution_count": 5,
   "id": "b484ea42-dc66-4fad-8330-029223c8389a",
   "metadata": {
    "scrolled": true
   },
   "outputs": [],
   "source": [
    "# importing libraries \n",
    "library(tidyverse)\n",
    "library(tidymodels)\n",
    "library(RColorBrewer)"
   ]
  },
  {
   "cell_type": "code",
   "execution_count": 6,
   "id": "031bf932-541a-4bef-a43f-21f16105f929",
   "metadata": {},
   "outputs": [],
   "source": [
    "# reading in the data from the web\n",
    "nba_data <- read_csv(\"https://raw.githubusercontent.com/jakobsereda/dsci-100-project/main/data/stats.csv\", show_col_types = FALSE) "
   ]
  },
  {
   "cell_type": "code",
   "execution_count": 7,
   "id": "01417650-f30e-4d21-80f4-a2c8181cdaeb",
   "metadata": {},
   "outputs": [],
   "source": [
    "# cleaning and wrangling the data\n",
    "names(nba_data) <- tolower(names(nba_data))\n",
    "\n",
    "nba_clean <- nba_data |>\n",
    "    select(person_id, first_name, last_name, height, weight, position, season_id, \n",
    "           gp, gs, min, fg_pct, fg3_pct, ft_pct, reb, ast, stl, blk, tov, pf, pts) |>\n",
    "    na.omit() |>\n",
    "    mutate(position = ifelse(position == \"Center-Forward\", \"Center\", position)) |>\n",
    "    mutate(position = ifelse(position == \"Guard-Forward\", \"Guard\", position)) |>\n",
    "    mutate(position = ifelse(position == \"Forward-Guard\" | position == \"Forward-Center\", \"Forward\", position)) |>\n",
    "    mutate(position = as_factor(position))"
   ]
  },
  {
   "cell_type": "code",
   "execution_count": 11,
   "id": "8ef55bf2-ff80-49ff-85c9-31e4c9e861af",
   "metadata": {},
   "outputs": [
    {
     "data": {
      "text/html": [
       "<table class=\"dataframe\">\n",
       "<caption>A tibble: 6 × 20</caption>\n",
       "<thead>\n",
       "\t<tr><th scope=col>person_id</th><th scope=col>first_name</th><th scope=col>last_name</th><th scope=col>height</th><th scope=col>weight</th><th scope=col>position</th><th scope=col>season_id</th><th scope=col>gp</th><th scope=col>gs</th><th scope=col>min</th><th scope=col>fg_pct</th><th scope=col>fg3_pct</th><th scope=col>ft_pct</th><th scope=col>reb</th><th scope=col>ast</th><th scope=col>stl</th><th scope=col>blk</th><th scope=col>tov</th><th scope=col>pf</th><th scope=col>pts</th></tr>\n",
       "\t<tr><th scope=col>&lt;dbl&gt;</th><th scope=col>&lt;chr&gt;</th><th scope=col>&lt;chr&gt;</th><th scope=col>&lt;dbl&gt;</th><th scope=col>&lt;dbl&gt;</th><th scope=col>&lt;fct&gt;</th><th scope=col>&lt;chr&gt;</th><th scope=col>&lt;dbl&gt;</th><th scope=col>&lt;dbl&gt;</th><th scope=col>&lt;dbl&gt;</th><th scope=col>&lt;dbl&gt;</th><th scope=col>&lt;dbl&gt;</th><th scope=col>&lt;dbl&gt;</th><th scope=col>&lt;dbl&gt;</th><th scope=col>&lt;dbl&gt;</th><th scope=col>&lt;dbl&gt;</th><th scope=col>&lt;dbl&gt;</th><th scope=col>&lt;dbl&gt;</th><th scope=col>&lt;dbl&gt;</th><th scope=col>&lt;dbl&gt;</th></tr>\n",
       "</thead>\n",
       "<tbody>\n",
       "\t<tr><td> 76003</td><td>Kareem  </td><td>Abdul-Jabbar</td><td>86</td><td>225</td><td>Center</td><td>1988-89</td><td>74</td><td>74</td><td>1695</td><td>0.475</td><td>0.000</td><td>0.739</td><td>334</td><td>74</td><td>38</td><td>85</td><td>95</td><td>196</td><td>748</td></tr>\n",
       "\t<tr><td>201582</td><td>Alexis  </td><td>Ajinca      </td><td>86</td><td>248</td><td>Center</td><td>2016-17</td><td>39</td><td>15</td><td> 584</td><td>0.500</td><td>0.000</td><td>0.725</td><td>177</td><td>12</td><td>20</td><td>22</td><td>31</td><td> 77</td><td>207</td></tr>\n",
       "\t<tr><td>202374</td><td>Solomon </td><td>Alabi       </td><td>85</td><td>252</td><td>Center</td><td>2011-12</td><td>14</td><td> 0</td><td> 122</td><td>0.361</td><td>0.000</td><td>0.875</td><td> 47</td><td> 3</td><td> 2</td><td> 9</td><td> 5</td><td> 11</td><td> 33</td></tr>\n",
       "\t<tr><td>202332</td><td>Cole    </td><td>Aldrich     </td><td>83</td><td>253</td><td>Center</td><td>2017-18</td><td>21</td><td> 0</td><td>  49</td><td>0.333</td><td>0.000</td><td>0.333</td><td> 15</td><td> 3</td><td> 2</td><td> 1</td><td> 1</td><td> 11</td><td> 12</td></tr>\n",
       "\t<tr><td>200746</td><td>LaMarcus</td><td>Aldridge    </td><td>83</td><td>250</td><td>Center</td><td>2021-22</td><td>47</td><td>12</td><td>1050</td><td>0.550</td><td>0.304</td><td>0.873</td><td>258</td><td>42</td><td>14</td><td>47</td><td>44</td><td> 78</td><td>607</td></tr>\n",
       "\t<tr><td> 76021</td><td>Chuck   </td><td>Aleksinas   </td><td>83</td><td>260</td><td>Center</td><td>1984-85</td><td>74</td><td> 4</td><td>1114</td><td>0.478</td><td>0.000</td><td>0.733</td><td>270</td><td>36</td><td>15</td><td>15</td><td>72</td><td>171</td><td>377</td></tr>\n",
       "</tbody>\n",
       "</table>\n"
      ],
      "text/latex": [
       "A tibble: 6 × 20\n",
       "\\begin{tabular}{llllllllllllllllllll}\n",
       " person\\_id & first\\_name & last\\_name & height & weight & position & season\\_id & gp & gs & min & fg\\_pct & fg3\\_pct & ft\\_pct & reb & ast & stl & blk & tov & pf & pts\\\\\n",
       " <dbl> & <chr> & <chr> & <dbl> & <dbl> & <fct> & <chr> & <dbl> & <dbl> & <dbl> & <dbl> & <dbl> & <dbl> & <dbl> & <dbl> & <dbl> & <dbl> & <dbl> & <dbl> & <dbl>\\\\\n",
       "\\hline\n",
       "\t  76003 & Kareem   & Abdul-Jabbar & 86 & 225 & Center & 1988-89 & 74 & 74 & 1695 & 0.475 & 0.000 & 0.739 & 334 & 74 & 38 & 85 & 95 & 196 & 748\\\\\n",
       "\t 201582 & Alexis   & Ajinca       & 86 & 248 & Center & 2016-17 & 39 & 15 &  584 & 0.500 & 0.000 & 0.725 & 177 & 12 & 20 & 22 & 31 &  77 & 207\\\\\n",
       "\t 202374 & Solomon  & Alabi        & 85 & 252 & Center & 2011-12 & 14 &  0 &  122 & 0.361 & 0.000 & 0.875 &  47 &  3 &  2 &  9 &  5 &  11 &  33\\\\\n",
       "\t 202332 & Cole     & Aldrich      & 83 & 253 & Center & 2017-18 & 21 &  0 &   49 & 0.333 & 0.000 & 0.333 &  15 &  3 &  2 &  1 &  1 &  11 &  12\\\\\n",
       "\t 200746 & LaMarcus & Aldridge     & 83 & 250 & Center & 2021-22 & 47 & 12 & 1050 & 0.550 & 0.304 & 0.873 & 258 & 42 & 14 & 47 & 44 &  78 & 607\\\\\n",
       "\t  76021 & Chuck    & Aleksinas    & 83 & 260 & Center & 1984-85 & 74 &  4 & 1114 & 0.478 & 0.000 & 0.733 & 270 & 36 & 15 & 15 & 72 & 171 & 377\\\\\n",
       "\\end{tabular}\n"
      ],
      "text/markdown": [
       "\n",
       "A tibble: 6 × 20\n",
       "\n",
       "| person_id &lt;dbl&gt; | first_name &lt;chr&gt; | last_name &lt;chr&gt; | height &lt;dbl&gt; | weight &lt;dbl&gt; | position &lt;fct&gt; | season_id &lt;chr&gt; | gp &lt;dbl&gt; | gs &lt;dbl&gt; | min &lt;dbl&gt; | fg_pct &lt;dbl&gt; | fg3_pct &lt;dbl&gt; | ft_pct &lt;dbl&gt; | reb &lt;dbl&gt; | ast &lt;dbl&gt; | stl &lt;dbl&gt; | blk &lt;dbl&gt; | tov &lt;dbl&gt; | pf &lt;dbl&gt; | pts &lt;dbl&gt; |\n",
       "|---|---|---|---|---|---|---|---|---|---|---|---|---|---|---|---|---|---|---|---|\n",
       "|  76003 | Kareem   | Abdul-Jabbar | 86 | 225 | Center | 1988-89 | 74 | 74 | 1695 | 0.475 | 0.000 | 0.739 | 334 | 74 | 38 | 85 | 95 | 196 | 748 |\n",
       "| 201582 | Alexis   | Ajinca       | 86 | 248 | Center | 2016-17 | 39 | 15 |  584 | 0.500 | 0.000 | 0.725 | 177 | 12 | 20 | 22 | 31 |  77 | 207 |\n",
       "| 202374 | Solomon  | Alabi        | 85 | 252 | Center | 2011-12 | 14 |  0 |  122 | 0.361 | 0.000 | 0.875 |  47 |  3 |  2 |  9 |  5 |  11 |  33 |\n",
       "| 202332 | Cole     | Aldrich      | 83 | 253 | Center | 2017-18 | 21 |  0 |   49 | 0.333 | 0.000 | 0.333 |  15 |  3 |  2 |  1 |  1 |  11 |  12 |\n",
       "| 200746 | LaMarcus | Aldridge     | 83 | 250 | Center | 2021-22 | 47 | 12 | 1050 | 0.550 | 0.304 | 0.873 | 258 | 42 | 14 | 47 | 44 |  78 | 607 |\n",
       "|  76021 | Chuck    | Aleksinas    | 83 | 260 | Center | 1984-85 | 74 |  4 | 1114 | 0.478 | 0.000 | 0.733 | 270 | 36 | 15 | 15 | 72 | 171 | 377 |\n",
       "\n"
      ],
      "text/plain": [
       "  person_id first_name last_name    height weight position season_id gp gs min \n",
       "1  76003    Kareem     Abdul-Jabbar 86     225    Center   1988-89   74 74 1695\n",
       "2 201582    Alexis     Ajinca       86     248    Center   2016-17   39 15  584\n",
       "3 202374    Solomon    Alabi        85     252    Center   2011-12   14  0  122\n",
       "4 202332    Cole       Aldrich      83     253    Center   2017-18   21  0   49\n",
       "5 200746    LaMarcus   Aldridge     83     250    Center   2021-22   47 12 1050\n",
       "6  76021    Chuck      Aleksinas    83     260    Center   1984-85   74  4 1114\n",
       "  fg_pct fg3_pct ft_pct reb ast stl blk tov pf  pts\n",
       "1 0.475  0.000   0.739  334 74  38  85  95  196 748\n",
       "2 0.500  0.000   0.725  177 12  20  22  31   77 207\n",
       "3 0.361  0.000   0.875   47  3   2   9   5   11  33\n",
       "4 0.333  0.000   0.333   15  3   2   1   1   11  12\n",
       "5 0.550  0.304   0.873  258 42  14  47  44   78 607\n",
       "6 0.478  0.000   0.733  270 36  15  15  72  171 377"
      ]
     },
     "metadata": {},
     "output_type": "display_data"
    }
   ],
   "source": [
    "set.seed(2024) \n",
    "\n",
    "# splitting the data into training and testing sets\n",
    "nba_split <- initial_split(nba_clean, prop = 3/4, strata = position)\n",
    "\n",
    "nba_train <- training(nba_split)\n",
    "nba_test <- testing(nba_split)\n",
    "\n",
    "head(nba_train)"
   ]
  },
  {
   "cell_type": "code",
   "execution_count": 12,
   "id": "b924529c-5f01-4aa2-aef7-f78009956c9f",
   "metadata": {},
   "outputs": [
    {
     "data": {
      "text/html": [
       "<table class=\"dataframe\">\n",
       "<caption>A tibble: 3 × 14</caption>\n",
       "<thead>\n",
       "\t<tr><th scope=col>position</th><th scope=col>min_height</th><th scope=col>max_height</th><th scope=col>mean_height</th><th scope=col>min_weight</th><th scope=col>max_weight</th><th scope=col>mean_weight</th><th scope=col>min_fg_pct</th><th scope=col>max_fg_pct</th><th scope=col>mean_fg_pct</th><th scope=col>min_ft_pct</th><th scope=col>max_ft_pct</th><th scope=col>mean_ft_pct</th><th scope=col>n_players</th></tr>\n",
       "\t<tr><th scope=col>&lt;fct&gt;</th><th scope=col>&lt;dbl&gt;</th><th scope=col>&lt;dbl&gt;</th><th scope=col>&lt;dbl&gt;</th><th scope=col>&lt;dbl&gt;</th><th scope=col>&lt;dbl&gt;</th><th scope=col>&lt;dbl&gt;</th><th scope=col>&lt;dbl&gt;</th><th scope=col>&lt;dbl&gt;</th><th scope=col>&lt;dbl&gt;</th><th scope=col>&lt;dbl&gt;</th><th scope=col>&lt;dbl&gt;</th><th scope=col>&lt;dbl&gt;</th><th scope=col>&lt;int&gt;</th></tr>\n",
       "</thead>\n",
       "<tbody>\n",
       "\t<tr><td>Forward</td><td>71</td><td>86</td><td>80.11799</td><td>153</td><td>289</td><td>226.2340</td><td>0</td><td>1</td><td>0.4092183</td><td>0</td><td>1</td><td>0.6031200</td><td>1017</td></tr>\n",
       "\t<tr><td>Center </td><td>79</td><td>91</td><td>83.36118</td><td>195</td><td>360</td><td>250.5577</td><td>0</td><td>1</td><td>0.4317838</td><td>0</td><td>1</td><td>0.5567199</td><td> 407</td></tr>\n",
       "\t<tr><td>Guard  </td><td>65</td><td>84</td><td>75.56789</td><td>133</td><td>255</td><td>194.8569</td><td>0</td><td>1</td><td>0.3732541</td><td>0</td><td>1</td><td>0.6561018</td><td>1090</td></tr>\n",
       "</tbody>\n",
       "</table>\n"
      ],
      "text/latex": [
       "A tibble: 3 × 14\n",
       "\\begin{tabular}{llllllllllllll}\n",
       " position & min\\_height & max\\_height & mean\\_height & min\\_weight & max\\_weight & mean\\_weight & min\\_fg\\_pct & max\\_fg\\_pct & mean\\_fg\\_pct & min\\_ft\\_pct & max\\_ft\\_pct & mean\\_ft\\_pct & n\\_players\\\\\n",
       " <fct> & <dbl> & <dbl> & <dbl> & <dbl> & <dbl> & <dbl> & <dbl> & <dbl> & <dbl> & <dbl> & <dbl> & <dbl> & <int>\\\\\n",
       "\\hline\n",
       "\t Forward & 71 & 86 & 80.11799 & 153 & 289 & 226.2340 & 0 & 1 & 0.4092183 & 0 & 1 & 0.6031200 & 1017\\\\\n",
       "\t Center  & 79 & 91 & 83.36118 & 195 & 360 & 250.5577 & 0 & 1 & 0.4317838 & 0 & 1 & 0.5567199 &  407\\\\\n",
       "\t Guard   & 65 & 84 & 75.56789 & 133 & 255 & 194.8569 & 0 & 1 & 0.3732541 & 0 & 1 & 0.6561018 & 1090\\\\\n",
       "\\end{tabular}\n"
      ],
      "text/markdown": [
       "\n",
       "A tibble: 3 × 14\n",
       "\n",
       "| position &lt;fct&gt; | min_height &lt;dbl&gt; | max_height &lt;dbl&gt; | mean_height &lt;dbl&gt; | min_weight &lt;dbl&gt; | max_weight &lt;dbl&gt; | mean_weight &lt;dbl&gt; | min_fg_pct &lt;dbl&gt; | max_fg_pct &lt;dbl&gt; | mean_fg_pct &lt;dbl&gt; | min_ft_pct &lt;dbl&gt; | max_ft_pct &lt;dbl&gt; | mean_ft_pct &lt;dbl&gt; | n_players &lt;int&gt; |\n",
       "|---|---|---|---|---|---|---|---|---|---|---|---|---|---|\n",
       "| Forward | 71 | 86 | 80.11799 | 153 | 289 | 226.2340 | 0 | 1 | 0.4092183 | 0 | 1 | 0.6031200 | 1017 |\n",
       "| Center  | 79 | 91 | 83.36118 | 195 | 360 | 250.5577 | 0 | 1 | 0.4317838 | 0 | 1 | 0.5567199 |  407 |\n",
       "| Guard   | 65 | 84 | 75.56789 | 133 | 255 | 194.8569 | 0 | 1 | 0.3732541 | 0 | 1 | 0.6561018 | 1090 |\n",
       "\n"
      ],
      "text/plain": [
       "  position min_height max_height mean_height min_weight max_weight mean_weight\n",
       "1 Forward  71         86         80.11799    153        289        226.2340   \n",
       "2 Center   79         91         83.36118    195        360        250.5577   \n",
       "3 Guard    65         84         75.56789    133        255        194.8569   \n",
       "  min_fg_pct max_fg_pct mean_fg_pct min_ft_pct max_ft_pct mean_ft_pct n_players\n",
       "1 0          1          0.4092183   0          1          0.6031200   1017     \n",
       "2 0          1          0.4317838   0          1          0.5567199    407     \n",
       "3 0          1          0.3732541   0          1          0.6561018   1090     "
      ]
     },
     "metadata": {},
     "output_type": "display_data"
    }
   ],
   "source": [
    "# summarizing the number of players in each position, and the min, max, and mean of each predictor for each position\n",
    "nba_summarized <- nba_train |>\n",
    "    group_by(position) |>\n",
    "    summarize(min_height = min(height), max_height = max(height), mean_height = mean(height),\n",
    "              min_weight = min(weight), max_weight = max(weight), mean_weight = mean(weight),\n",
    "              min_fg_pct = min(fg_pct), max_fg_pct = max(fg_pct), mean_fg_pct = mean(fg_pct),\n",
    "              min_ft_pct = min(ft_pct), max_ft_pct = max(ft_pct), mean_ft_pct = mean(ft_pct),\n",
    "              n_players = n())\n",
    "\n",
    "nba_summarized"
   ]
  },
  {
   "cell_type": "code",
   "execution_count": null,
   "id": "ab4b3db2-6dc1-437b-978c-3b4084a6d2fc",
   "metadata": {},
   "outputs": [],
   "source": [
    "set.seed(2024)\n",
    "\n",
    "# creating recipe and standardizing data\n",
    "nba_recipe <- recipe(position ~ height + weight + fg_pct + ft_pct, data = nba_train) |>\n",
    "    step_scale(all_predictors()) |>\n",
    "    step_center(all_predictors())\n",
    "\n",
    "# creating knn-model specification\n"
   ]
  }
 ],
 "metadata": {
  "kernelspec": {
   "display_name": "R",
   "language": "R",
   "name": "ir"
  },
  "language_info": {
   "codemirror_mode": "r",
   "file_extension": ".r",
   "mimetype": "text/x-r-source",
   "name": "R",
   "pygments_lexer": "r",
   "version": "4.3.1"
  }
 },
 "nbformat": 4,
 "nbformat_minor": 5
}
