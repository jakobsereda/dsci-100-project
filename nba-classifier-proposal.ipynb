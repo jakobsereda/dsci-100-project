{
 "cells": [
  {
   "cell_type": "markdown",
   "id": "7186ed7a-c985-4e5d-b2cb-8b6ef6ce5ce0",
   "metadata": {},
   "source": [
    "# **Temp Title**"
   ]
  },
  {
   "cell_type": "markdown",
   "id": "7d3b14ed-3ab0-4136-ac08-1cbfc97af035",
   "metadata": {},
   "source": [
    "##### *Tanisha Amrin, Charmaine Chui, Jakob Sereda, Julian Wright*"
   ]
  },
  {
   "cell_type": "markdown",
   "id": "ed69df4c-85df-4911-93e5-a3ef91b943b2",
   "metadata": {},
   "source": [
    "## **Introduction**"
   ]
  },
  {
   "cell_type": "markdown",
   "id": "534dce79-9e0b-4800-b8f1-a4391b046d2b",
   "metadata": {},
   "source": [
    "One of the most popular sports in North America and worldwide (*SportsPro Media*, 2023), games of basketball have been played amongst millions, both professional and amateur, since its invention in 1891 (*National Geographic*, 2021). When it comes to professional basketball, all eyes are on the National Basketball Association (or NBA), which is considered to be the premier professional basketball league in the world (*SportsPro Media*, 2023). Each of the 30 teams in the NBA holds their players to an immense standard of performance, only signing the very best in the world to hit the court wearing their jerseys."
   ]
  },
  {
   "cell_type": "markdown",
   "id": "4ee144be-1eec-4dc2-98f7-450d64f72470",
   "metadata": {},
   "source": [
    "A traditionally key aspect of basketball is the numerous positions players take on the court. Each player fills one position, and although there are many roles officially documented, they can be grouped into the three main categories of centers, forwards, and guards, with many hybrids and combinations to fill in the gaps (*Under Armour*). NBA team coaches are tasked with appropriately assigning drafted players and new recruits to positions that will most suit their body type and skill set. The nuances of such a process can have a profound impact on a team's ability to perform, allowing individual players to show their unique talents if placed in the right role (*RedBull*, 2022). The goal of this project is to provide a model that can assist coaches in assigning positions to their players, through statistical analysis and reasoning."
   ]
  },
  {
   "cell_type": "markdown",
   "id": "a9301d15-ffc1-43b1-a280-6a81290b6116",
   "metadata": {},
   "source": [
    "The question we seek to answer is: **What position is a player most likely to play, given their height, weight, free-throw percentage, and 3-point field goal percentage?**"
   ]
  },
  {
   "cell_type": "markdown",
   "id": "05fc4376-9d01-4cf9-8e98-9097bef77f6a",
   "metadata": {},
   "source": [
    "The data set we will use to answer this question was pulled from [*nba.com*](https://www.nba.com/stats/players), the official website of the NBA, using the NBA API Client package; [*github.com/swar/nba_api*](https://github.com/swar/nba_api)  (Swar Patel, Randall Forbes, et al). It contains stats on individual players during each NBA season. The are 58 columns and 4,917 rows in this data set, missing values are represented by \"NA\". As there is a large amount of data stored by the NBA, and thus many columns in this data set, we will not list every single column in this data set below. We provide descriptions of the following columns from the data relevant to our analysis below:\n",
    "- **PERSON_ID:** the given player's id\n",
    "- **HEIGHT:** player's height in inches\n",
    "- **WEIGHT:** player's weight in lbs\n",
    "- **POSITION:** player's position (one of Forward, Center, Guard, Center-Forward, Forward-Center, Guard-Forward, Forward-Guard)\n",
    "- **FG3_PCT:** 3-point field goal percentage, value between 0 and 1 (3-point field goals made / 3-point field goals attempted)\n",
    "- **FT_PCT:** free throw percentage, value between 0 and 1 (free throws made / free throws attempted)"
   ]
  },
  {
   "cell_type": "markdown",
   "id": "0f81862b-65e1-4567-991c-3468ef6e61f6",
   "metadata": {},
   "source": [
    "## **Preliminary Exploratory Data Analysis**"
   ]
  },
  {
   "cell_type": "code",
   "execution_count": 19,
   "id": "64c88335-7ae7-49d1-8b91-9313beb93032",
   "metadata": {},
   "outputs": [
    {
     "name": "stderr",
     "output_type": "stream",
     "text": [
      "── \u001b[1mAttaching packages\u001b[22m ────────────────────────────────────── tidymodels 1.1.1 ──\n",
      "\n",
      "\u001b[32m✔\u001b[39m \u001b[34mbroom       \u001b[39m 1.0.5     \u001b[32m✔\u001b[39m \u001b[34mrsample     \u001b[39m 1.2.0\n",
      "\u001b[32m✔\u001b[39m \u001b[34mdials       \u001b[39m 1.2.0     \u001b[32m✔\u001b[39m \u001b[34mtune        \u001b[39m 1.1.2\n",
      "\u001b[32m✔\u001b[39m \u001b[34minfer       \u001b[39m 1.0.5     \u001b[32m✔\u001b[39m \u001b[34mworkflows   \u001b[39m 1.1.3\n",
      "\u001b[32m✔\u001b[39m \u001b[34mmodeldata   \u001b[39m 1.2.0     \u001b[32m✔\u001b[39m \u001b[34mworkflowsets\u001b[39m 1.0.1\n",
      "\u001b[32m✔\u001b[39m \u001b[34mparsnip     \u001b[39m 1.1.1     \u001b[32m✔\u001b[39m \u001b[34myardstick   \u001b[39m 1.2.0\n",
      "\u001b[32m✔\u001b[39m \u001b[34mrecipes     \u001b[39m 1.0.8     \n",
      "\n",
      "── \u001b[1mConflicts\u001b[22m ───────────────────────────────────────── tidymodels_conflicts() ──\n",
      "\u001b[31m✖\u001b[39m \u001b[34mscales\u001b[39m::\u001b[32mdiscard()\u001b[39m masks \u001b[34mpurrr\u001b[39m::discard()\n",
      "\u001b[31m✖\u001b[39m \u001b[34mdplyr\u001b[39m::\u001b[32mfilter()\u001b[39m   masks \u001b[34mstats\u001b[39m::filter()\n",
      "\u001b[31m✖\u001b[39m \u001b[34mrecipes\u001b[39m::\u001b[32mfixed()\u001b[39m  masks \u001b[34mstringr\u001b[39m::fixed()\n",
      "\u001b[31m✖\u001b[39m \u001b[34mdplyr\u001b[39m::\u001b[32mlag()\u001b[39m      masks \u001b[34mstats\u001b[39m::lag()\n",
      "\u001b[31m✖\u001b[39m \u001b[34myardstick\u001b[39m::\u001b[32mspec()\u001b[39m masks \u001b[34mreadr\u001b[39m::spec()\n",
      "\u001b[31m✖\u001b[39m \u001b[34mrecipes\u001b[39m::\u001b[32mstep()\u001b[39m   masks \u001b[34mstats\u001b[39m::step()\n",
      "\u001b[34m•\u001b[39m Learn how to get started at \u001b[32mhttps://www.tidymodels.org/start/\u001b[39m\n",
      "\n"
     ]
    }
   ],
   "source": [
    "# importing libraries\n",
    "library(tidyverse)\n",
    "library(tidymodels)\n",
    "library(RColorBrewer)"
   ]
  },
  {
   "cell_type": "code",
   "execution_count": 21,
   "id": "7108c707-31dc-4d53-b714-7ce713ffdae7",
   "metadata": {},
   "outputs": [
    {
     "name": "stderr",
     "output_type": "stream",
     "text": [
      "\u001b[1mRows: \u001b[22m\u001b[34m4916\u001b[39m \u001b[1mColumns: \u001b[22m\u001b[34m58\u001b[39m\n",
      "\u001b[36m──\u001b[39m \u001b[1mColumn specification\u001b[22m \u001b[36m────────────────────────────────────────────────────────\u001b[39m\n",
      "\u001b[1mDelimiter:\u001b[22m \",\"\n",
      "\u001b[31mchr\u001b[39m  (21): FIRST_NAME, LAST_NAME, DISPLAY_FIRST_LAST, DISPLAY_LAST_COMMA_FIR...\n",
      "\u001b[32mdbl\u001b[39m  (31): PERSON_ID, HEIGHT, WEIGHT, SEASON_EXP, TEAM_ID, FROM_YEAR, TO_YEA...\n",
      "\u001b[33mlgl\u001b[39m   (5): GAMES_PLAYED_CURRENT_SEASON_FLAG, DLEAGUE_FLAG, NBA_FLAG, GAMES_P...\n",
      "\u001b[34mdttm\u001b[39m  (1): BIRTHDATE\n",
      "\n",
      "\u001b[36mℹ\u001b[39m Use `spec()` to retrieve the full column specification for this data.\n",
      "\u001b[36mℹ\u001b[39m Specify the column types or set `show_col_types = FALSE` to quiet this message.\n"
     ]
    },
    {
     "data": {
      "text/html": [
       "<table class=\"dataframe\">\n",
       "<caption>A tibble: 6 × 20</caption>\n",
       "<thead>\n",
       "\t<tr><th scope=col>person_id</th><th scope=col>first_name</th><th scope=col>last_name</th><th scope=col>height</th><th scope=col>weight</th><th scope=col>position</th><th scope=col>season_id</th><th scope=col>gp</th><th scope=col>gs</th><th scope=col>min</th><th scope=col>fg_pct</th><th scope=col>fg3_pct</th><th scope=col>ft_pct</th><th scope=col>reb</th><th scope=col>ast</th><th scope=col>stl</th><th scope=col>blk</th><th scope=col>tov</th><th scope=col>pf</th><th scope=col>pts</th></tr>\n",
       "\t<tr><th scope=col>&lt;dbl&gt;</th><th scope=col>&lt;chr&gt;</th><th scope=col>&lt;chr&gt;</th><th scope=col>&lt;dbl&gt;</th><th scope=col>&lt;dbl&gt;</th><th scope=col>&lt;fct&gt;</th><th scope=col>&lt;chr&gt;</th><th scope=col>&lt;dbl&gt;</th><th scope=col>&lt;dbl&gt;</th><th scope=col>&lt;dbl&gt;</th><th scope=col>&lt;dbl&gt;</th><th scope=col>&lt;dbl&gt;</th><th scope=col>&lt;dbl&gt;</th><th scope=col>&lt;dbl&gt;</th><th scope=col>&lt;dbl&gt;</th><th scope=col>&lt;dbl&gt;</th><th scope=col>&lt;dbl&gt;</th><th scope=col>&lt;dbl&gt;</th><th scope=col>&lt;dbl&gt;</th><th scope=col>&lt;dbl&gt;</th></tr>\n",
       "</thead>\n",
       "<tbody>\n",
       "\t<tr><td>  76003</td><td>Kareem </td><td>Abdul-Jabbar</td><td>86</td><td>225</td><td>Center</td><td>1988-89</td><td>74</td><td>74</td><td>1695</td><td>0.475</td><td>0.000</td><td>0.739</td><td>334</td><td> 74</td><td>38</td><td>85</td><td> 95</td><td>196</td><td> 748</td></tr>\n",
       "\t<tr><td>  76009</td><td>Mark   </td><td>Acres       </td><td>83</td><td>220</td><td>Center</td><td>1992-93</td><td>18</td><td> 7</td><td> 269</td><td>0.531</td><td>0.500</td><td>0.688</td><td> 67</td><td>  5</td><td> 3</td><td> 6</td><td> 13</td><td> 34</td><td>  64</td></tr>\n",
       "\t<tr><td>  76011</td><td>Alvan  </td><td>Adams       </td><td>81</td><td>210</td><td>Center</td><td>1987-88</td><td>82</td><td>25</td><td>1646</td><td>0.496</td><td>0.500</td><td>0.844</td><td>365</td><td>183</td><td>82</td><td>41</td><td>140</td><td>245</td><td> 611</td></tr>\n",
       "\t<tr><td> 203500</td><td>Steven </td><td>Adams       </td><td>83</td><td>265</td><td>Center</td><td>2022-23</td><td>42</td><td>42</td><td>1133</td><td>0.597</td><td>0.000</td><td>0.364</td><td>485</td><td> 97</td><td>36</td><td>46</td><td> 79</td><td> 98</td><td> 361</td></tr>\n",
       "\t<tr><td>1628389</td><td>Bam    </td><td>Adebayo     </td><td>81</td><td>255</td><td>Center</td><td>2023-24</td><td>53</td><td>53</td><td>1835</td><td>0.508</td><td>0.071</td><td>0.769</td><td>546</td><td>214</td><td>57</td><td>51</td><td>130</td><td>128</td><td>1057</td></tr>\n",
       "\t<tr><td> 202374</td><td>Solomon</td><td>Alabi       </td><td>85</td><td>252</td><td>Center</td><td>2011-12</td><td>14</td><td> 0</td><td> 122</td><td>0.361</td><td>0.000</td><td>0.875</td><td> 47</td><td>  3</td><td> 2</td><td> 9</td><td>  5</td><td> 11</td><td>  33</td></tr>\n",
       "</tbody>\n",
       "</table>\n"
      ],
      "text/latex": [
       "A tibble: 6 × 20\n",
       "\\begin{tabular}{llllllllllllllllllll}\n",
       " person\\_id & first\\_name & last\\_name & height & weight & position & season\\_id & gp & gs & min & fg\\_pct & fg3\\_pct & ft\\_pct & reb & ast & stl & blk & tov & pf & pts\\\\\n",
       " <dbl> & <chr> & <chr> & <dbl> & <dbl> & <fct> & <chr> & <dbl> & <dbl> & <dbl> & <dbl> & <dbl> & <dbl> & <dbl> & <dbl> & <dbl> & <dbl> & <dbl> & <dbl> & <dbl>\\\\\n",
       "\\hline\n",
       "\t   76003 & Kareem  & Abdul-Jabbar & 86 & 225 & Center & 1988-89 & 74 & 74 & 1695 & 0.475 & 0.000 & 0.739 & 334 &  74 & 38 & 85 &  95 & 196 &  748\\\\\n",
       "\t   76009 & Mark    & Acres        & 83 & 220 & Center & 1992-93 & 18 &  7 &  269 & 0.531 & 0.500 & 0.688 &  67 &   5 &  3 &  6 &  13 &  34 &   64\\\\\n",
       "\t   76011 & Alvan   & Adams        & 81 & 210 & Center & 1987-88 & 82 & 25 & 1646 & 0.496 & 0.500 & 0.844 & 365 & 183 & 82 & 41 & 140 & 245 &  611\\\\\n",
       "\t  203500 & Steven  & Adams        & 83 & 265 & Center & 2022-23 & 42 & 42 & 1133 & 0.597 & 0.000 & 0.364 & 485 &  97 & 36 & 46 &  79 &  98 &  361\\\\\n",
       "\t 1628389 & Bam     & Adebayo      & 81 & 255 & Center & 2023-24 & 53 & 53 & 1835 & 0.508 & 0.071 & 0.769 & 546 & 214 & 57 & 51 & 130 & 128 & 1057\\\\\n",
       "\t  202374 & Solomon & Alabi        & 85 & 252 & Center & 2011-12 & 14 &  0 &  122 & 0.361 & 0.000 & 0.875 &  47 &   3 &  2 &  9 &   5 &  11 &   33\\\\\n",
       "\\end{tabular}\n"
      ],
      "text/markdown": [
       "\n",
       "A tibble: 6 × 20\n",
       "\n",
       "| person_id &lt;dbl&gt; | first_name &lt;chr&gt; | last_name &lt;chr&gt; | height &lt;dbl&gt; | weight &lt;dbl&gt; | position &lt;fct&gt; | season_id &lt;chr&gt; | gp &lt;dbl&gt; | gs &lt;dbl&gt; | min &lt;dbl&gt; | fg_pct &lt;dbl&gt; | fg3_pct &lt;dbl&gt; | ft_pct &lt;dbl&gt; | reb &lt;dbl&gt; | ast &lt;dbl&gt; | stl &lt;dbl&gt; | blk &lt;dbl&gt; | tov &lt;dbl&gt; | pf &lt;dbl&gt; | pts &lt;dbl&gt; |\n",
       "|---|---|---|---|---|---|---|---|---|---|---|---|---|---|---|---|---|---|---|---|\n",
       "|   76003 | Kareem  | Abdul-Jabbar | 86 | 225 | Center | 1988-89 | 74 | 74 | 1695 | 0.475 | 0.000 | 0.739 | 334 |  74 | 38 | 85 |  95 | 196 |  748 |\n",
       "|   76009 | Mark    | Acres        | 83 | 220 | Center | 1992-93 | 18 |  7 |  269 | 0.531 | 0.500 | 0.688 |  67 |   5 |  3 |  6 |  13 |  34 |   64 |\n",
       "|   76011 | Alvan   | Adams        | 81 | 210 | Center | 1987-88 | 82 | 25 | 1646 | 0.496 | 0.500 | 0.844 | 365 | 183 | 82 | 41 | 140 | 245 |  611 |\n",
       "|  203500 | Steven  | Adams        | 83 | 265 | Center | 2022-23 | 42 | 42 | 1133 | 0.597 | 0.000 | 0.364 | 485 |  97 | 36 | 46 |  79 |  98 |  361 |\n",
       "| 1628389 | Bam     | Adebayo      | 81 | 255 | Center | 2023-24 | 53 | 53 | 1835 | 0.508 | 0.071 | 0.769 | 546 | 214 | 57 | 51 | 130 | 128 | 1057 |\n",
       "|  202374 | Solomon | Alabi        | 85 | 252 | Center | 2011-12 | 14 |  0 |  122 | 0.361 | 0.000 | 0.875 |  47 |   3 |  2 |  9 |   5 |  11 |   33 |\n",
       "\n"
      ],
      "text/plain": [
       "  person_id first_name last_name    height weight position season_id gp gs min \n",
       "1   76003   Kareem     Abdul-Jabbar 86     225    Center   1988-89   74 74 1695\n",
       "2   76009   Mark       Acres        83     220    Center   1992-93   18  7  269\n",
       "3   76011   Alvan      Adams        81     210    Center   1987-88   82 25 1646\n",
       "4  203500   Steven     Adams        83     265    Center   2022-23   42 42 1133\n",
       "5 1628389   Bam        Adebayo      81     255    Center   2023-24   53 53 1835\n",
       "6  202374   Solomon    Alabi        85     252    Center   2011-12   14  0  122\n",
       "  fg_pct fg3_pct ft_pct reb ast stl blk tov pf  pts \n",
       "1 0.475  0.000   0.739  334  74 38  85   95 196  748\n",
       "2 0.531  0.500   0.688   67   5  3   6   13  34   64\n",
       "3 0.496  0.500   0.844  365 183 82  41  140 245  611\n",
       "4 0.597  0.000   0.364  485  97 36  46   79  98  361\n",
       "5 0.508  0.071   0.769  546 214 57  51  130 128 1057\n",
       "6 0.361  0.000   0.875   47   3  2   9    5  11   33"
      ]
     },
     "metadata": {},
     "output_type": "display_data"
    }
   ],
   "source": [
    "set.seed(2023) \n",
    "\n",
    "# reading in the data from the web\n",
    "nba_data <- read_csv(\"https://raw.githubusercontent.com/jakobsereda/dsci-100-project/main/stats.csv\") \n",
    "\n",
    "# cleaning and wrangling the data\n",
    "names(nba_data) <- tolower(names(nba_data))\n",
    "\n",
    "nba_clean <- nba_data |>\n",
    "    select(person_id, first_name, last_name, height, weight, position, season_id, \n",
    "           gp, gs, min, fg_pct, fg3_pct, ft_pct, reb, ast, stl, blk, tov, pf, pts) |>\n",
    "    na.omit() |>\n",
    "    mutate(position = ifelse(position == \"Center-Forward\", \"Center\", position)) |>\n",
    "    mutate(position = ifelse(position == \"Guard-Forward\", \"Guard\", position)) |>\n",
    "    mutate(position = ifelse(position == \"Forward-Guard\" | position == \"Forward-Center\", \"Forward\", position)) |>\n",
    "    mutate(position = as_factor(position))\n",
    "\n",
    "# splitting the data into training and testing sets\n",
    "nba_split <- initial_split(nba_clean, prop = 3/4, strata = position)\n",
    "\n",
    "nba_train <- training(nba_split)\n",
    "nba_test <- testing(nba_split)\n",
    "\n",
    "head(nba_train)"
   ]
  },
  {
   "cell_type": "code",
   "execution_count": null,
   "id": "15d4a9f4-5902-4fde-99ba-80e69c152ae0",
   "metadata": {},
   "outputs": [],
   "source": []
  },
  {
   "cell_type": "code",
   "execution_count": null,
   "id": "955eb2aa-4d64-4646-9fed-6758f6ce693c",
   "metadata": {},
   "outputs": [],
   "source": []
  },
  {
   "cell_type": "markdown",
   "id": "13979c5b-149b-40e3-a8e6-2cd81762411d",
   "metadata": {},
   "source": [
    "## **Bibliography**"
   ]
  },
  {
   "cell_type": "markdown",
   "id": "86450747-0989-4a09-a971-ed51a66b7e41",
   "metadata": {},
   "source": [
    "- Data is pulled from [*nba.com*](https://www.nba.com/stats/players), the official website of the NBA, \n",
    "   using the NBA API Client package; [*github.com/swar/nba_api*](https://github.com/swar/nba_api) (Swar Patel, Randall Forbes, et al). *Note: this dataset was not provided on Canvas, but was approved by a TA during tutorial.*\n",
    "- McMurray, Ben. \"Why the NBA is America's Most Globally Relevant Sports Property.\" *SportsPro Media*, 24 Oct. 2023, [*link*](https://www.sportspromedia.com/insights/analysis/nba-tv-rights-revenue-global-popularity-data-ampere-analysis/).\n",
    "- Toole, T.C. \"Here's the History of Basketball - From Peach Baskets in Springfield to Global Phenomenon.\" *National Geographic*, 27 Mar. 2021, [*link*](https://www.nationalgeographic.com/history/article/basketball-only-major-sport-invented-united-states-how-it-was-created).\n",
    "- \"What are the 5 Basketball Positions and Their Roles?\", *Under Armour*, [*link*](https://www.underarmour.com/en-us/t/playbooks/basketball/basketball-positions/).\n",
    "- Lister, Aimee. \"Basketball Positions Explained: What Each Player Does.\" *RedBull*, 21 Jul. 2022, [*link*](https://www.redbull.com/us-en/basketball-positions-what-each-player-does#:~:text=Generally%20speaking%2C%20each%20team%20is,handling%2C%20passing%20and%20shooting%20skills.)."
   ]
  }
 ],
 "metadata": {
  "kernelspec": {
   "display_name": "R",
   "language": "R",
   "name": "ir"
  },
  "language_info": {
   "codemirror_mode": "r",
   "file_extension": ".r",
   "mimetype": "text/x-r-source",
   "name": "R",
   "pygments_lexer": "r",
   "version": "4.3.1"
  }
 },
 "nbformat": 4,
 "nbformat_minor": 5
}
